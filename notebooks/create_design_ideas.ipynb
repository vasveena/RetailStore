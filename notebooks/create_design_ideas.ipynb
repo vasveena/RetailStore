{
 "cells": [
  {
   "cell_type": "markdown",
   "id": "3cd1a04e",
   "metadata": {},
   "source": [
    "<h1> Create new design ideas based on existing images with Amazon Bedrock </h1>\n",
    "<br>\n",
    "\n",
    "<p> Before starting, please make sure this notebook is using <b>conda_python3</b> kernel from the top right! </p>\n",
    "\n",
    "<p> In this notebook, let's learn how to use Amazon Bedrock to generate creative design ideas </p>\n",
    "\n",
    "<p> To run this notebook, go to Cell -> Run All. Inspect the output of each cell block. </p>\n",
    "\n",
    "<b> Please read the following instructions carefully! </b>\n",
    "    <ul>\n",
    "    <li>We highly recommend you to run all cells and inspect output rather than running the cells individually to save time as well as avoid any issues.  \n",
    "    <li>This notebook is for your understanding. Running this notebook is NOT required for proceeding with the next steps of your workshop.\n",
    "    <li>In case your notebook does not run as expected or if you run into any errors, please proceed with the next steps provided in the Workshop instructions. \n",
    "    <li>If you choose to run the notebooks, please read the comments in the markdown and inspect the output of each cell.\n",
    "    </ul>"
   ]
  },
  {
   "cell_type": "markdown",
   "id": "8e5e326a",
   "metadata": {},
   "source": [
    "<h3> Install required dependencies </h3>\n",
    "<p> <b>Note:</b> If you notice any ERRORs from the following cell, ignore them and proceed with the next cells.</p><br>"
   ]
  },
  {
   "cell_type": "code",
   "execution_count": null,
   "id": "2f86df36",
   "metadata": {},
   "outputs": [],
   "source": [
    "%pip install --quiet --no-build-isolation --upgrade \\\n",
    "    \"boto3==1.28.63\" \\\n",
    "    \"awscli==1.29.63\" \\\n",
    "    \"botocore==1.31.63\" "
   ]
  },
  {
   "cell_type": "markdown",
   "id": "f6bbc91b",
   "metadata": {},
   "source": [
    "<h3> Import required packages </h3>"
   ]
  },
  {
   "cell_type": "code",
   "execution_count": null,
   "id": "f1efe7a2",
   "metadata": {},
   "outputs": [],
   "source": [
    "import json\n",
    "import os\n",
    "import sys\n",
    "import boto3\n",
    "import botocore\n",
    "\n",
    "# For image operations\n",
    "from PIL import Image\n",
    "import base64\n",
    "import io\n",
    "import requests\n",
    "\n",
    "module_path = \"..\"\n",
    "sys.path.append(os.path.abspath(module_path))\n",
    "from utils import bedrock, print_ww"
   ]
  },
  {
   "cell_type": "markdown",
   "id": "775e1190",
   "metadata": {},
   "source": [
    "<h3> Initialize Bedrock client </h3><br>"
   ]
  },
  {
   "cell_type": "code",
   "execution_count": null,
   "id": "c80f14e4",
   "metadata": {},
   "outputs": [],
   "source": [
    " boto3_bedrock = bedrock.get_bedrock_client(\n",
    "    assumed_role=os.environ.get(\"BEDROCK_ASSUME_ROLE\", None),\n",
    "    region=os.environ.get(\"AWS_DEFAULT_REGION\", None)\n",
    ")"
   ]
  },
  {
   "cell_type": "markdown",
   "id": "619d8c44",
   "metadata": {},
   "source": [
    "<p>Create a function to convert an image into a base64 string since Stabile Diffusion LLM expects the image to be in base64 string format</p>"
   ]
  },
  {
   "cell_type": "code",
   "execution_count": null,
   "id": "7654ed46",
   "metadata": {},
   "outputs": [],
   "source": [
    "def image_to_base64(img) -> str:\n",
    "    if isinstance(img, str):\n",
    "        if os.path.isfile(img):\n",
    "            with open(img, \"rb\") as f:\n",
    "                return base64.b64encode(f.read()).decode(\"utf-8\")\n",
    "        else:\n",
    "            raise FileNotFoundError(f\"File {img} does not exist\")\n",
    "    elif isinstance(img, Image.Image):\n",
    "        buffer = io.BytesIO()\n",
    "        img.save(buffer, format=\"PNG\")\n",
    "        return base64.b64encode(buffer.getvalue()).decode(\"utf-8\")\n",
    "    else:\n",
    "        raise ValueError(f\"Expected str (filename) or PIL Image. Got {type(img)}\")"
   ]
  },
  {
   "cell_type": "markdown",
   "id": "7ebd501a",
   "metadata": {},
   "source": [
    "<h3>Read a product image</h3>\n",
    "\n",
    "<p> Note: We are using one of the images from the <a href=\"https://github.com/zalandoresearch/feidegger/tree/master\">FEIDEGGER</a> dataset. This is the <a href=\"https://github.com/zalandoresearch/feidegger/blob/master/LICENSE\">license</a> for this dataset. </p>"
   ]
  },
  {
   "cell_type": "code",
   "execution_count": null,
   "id": "895df4ee",
   "metadata": {},
   "outputs": [],
   "source": [
    "image_url = \"https://img01.ztat.net/article/spp-media-p1/3c8812d8b6233a55a5da06b19d780302/dc58460c157b426b817f13e7a2f087c5.jpg\"\n",
    "\n",
    "response = requests.get(image_url)\n",
    "image = Image.open(io.BytesIO(response.content))\n",
    "\n",
    "resize = image.resize((512,512))\n",
    "\n",
    "resize.show()"
   ]
  },
  {
   "cell_type": "markdown",
   "id": "d93e3ae9",
   "metadata": {},
   "source": [
    "<h4> Convert this image to a base 64 string for Bedrock's Stable Diffusion LLM </h4>"
   ]
  },
  {
   "cell_type": "code",
   "execution_count": null,
   "id": "638c4d57",
   "metadata": {},
   "outputs": [],
   "source": [
    "init_image_b64 = image_to_base64(resize)\n",
    "# print_ww(init_image_b64)"
   ]
  },
  {
   "cell_type": "markdown",
   "id": "aa962455",
   "metadata": {},
   "source": [
    "### Image prompts to pass to Bedrock "
   ]
  },
  {
   "cell_type": "code",
   "execution_count": null,
   "id": "99a1c7f8",
   "metadata": {},
   "outputs": [],
   "source": [
    "# This prompt aims to modify the image\n",
    "change_prompt = \"add floral prints to dress\"\n",
    "\n",
    "# Negative prompts that will be given -1.0 weight while generating new image\n",
    "negative_prompts = ['poorly rendered',\n",
    "                    'low quality',\n",
    "                    'disfigured',\n",
    "                    'disproportional']"
   ]
  },
  {
   "cell_type": "markdown",
   "id": "fd9aeb3f",
   "metadata": {},
   "source": [
    "### Compose request to pass to Stable Diffusion LLM"
   ]
  },
  {
   "cell_type": "code",
   "execution_count": null,
   "id": "94c8cd35",
   "metadata": {},
   "outputs": [],
   "source": [
    "sd_request = json.dumps({\n",
    "                    \"text_prompts\": (\n",
    "                        [{\"text\": change_prompt, \"weight\": 1.0}]\n",
    "                        + [{\"text\": negprompt, \"weight\": -1.0} for negprompt in negative_prompts]\n",
    "                    ),\n",
    "                    \"cfg_scale\": 10,\n",
    "                    \"init_image\": init_image_b64,\n",
    "                    \"seed\": 0,\n",
    "                    \"start_schedule\": 0.5,\n",
    "                    \"steps\": 30,\n",
    "                    \"style_preset\": \"photographic\",\n",
    "                    \"image_strength\":0.5,\n",
    "                    \"denoising_strength\": 0.5\n",
    "                })"
   ]
  },
  {
   "cell_type": "markdown",
   "id": "5eaefe11",
   "metadata": {},
   "source": [
    "### Call Bedrock Stable Diffusion model to generate new image"
   ]
  },
  {
   "cell_type": "code",
   "execution_count": null,
   "id": "8f9615af",
   "metadata": {},
   "outputs": [],
   "source": [
    "response = boto3_bedrock.invoke_model(body=sd_request, modelId=\"stability.stable-diffusion-xl\")"
   ]
  },
  {
   "cell_type": "markdown",
   "id": "f65879a6",
   "metadata": {},
   "source": [
    "### Render the newly generated image"
   ]
  },
  {
   "cell_type": "code",
   "execution_count": null,
   "id": "ae68c393",
   "metadata": {},
   "outputs": [],
   "source": [
    "response_body = json.loads(response.get('body').read())\n",
    "genimage_b64_str = response_body[\"artifacts\"][0].get(\"base64\")\n",
    "genimage = Image.open(io.BytesIO(base64.decodebytes(bytes(genimage_b64_str, \"utf-8\"))))\n",
    "genimage.show()"
   ]
  },
  {
   "cell_type": "markdown",
   "id": "ec9aa1d2",
   "metadata": {},
   "source": [
    "<h3> You've successfully created new design ideas for a product with Amazon Bedrock!</h3>\n",
    "\n",
    "<p> Please stop the notebook kernel before proceeding. </p>\n",
    "\n",
    "<h4> Now, let's learn how to integrate Amazon Bedrock into your web application to do the same. Please go back to Workshop Studio and follow the instructions to replicate this code into your Cloud9 environment. </h4>"
   ]
  },
  {
   "cell_type": "code",
   "execution_count": null,
   "id": "1de68cf0",
   "metadata": {},
   "outputs": [],
   "source": []
  }
 ],
 "metadata": {
  "kernelspec": {
   "display_name": "conda_python3",
   "language": "python",
   "name": "conda_python3"
  },
  "language_info": {
   "codemirror_mode": {
    "name": "ipython",
    "version": 3
   },
   "file_extension": ".py",
   "mimetype": "text/x-python",
   "name": "python",
   "nbconvert_exporter": "python",
   "pygments_lexer": "ipython3",
   "version": "3.10.12"
  }
 },
 "nbformat": 4,
 "nbformat_minor": 5
}
