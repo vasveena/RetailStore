{
 "cells": [
  {
   "cell_type": "markdown",
   "id": "830fac4b",
   "metadata": {},
   "source": [
    "<h1> Summarize Customer Reviews Using Amazon Bedrock </h1>\n",
    "<br>\n",
    "\n",
    "<p> Before starting, please make sure this notebook is using <b>conda_python3</b> kernel from the top right! </p>\n",
    "\n",
    "<p> In this notebook, let's learn how to use Amazon Bedrock to summarize all the customer reviews of a product </p>\n",
    "\n",
    "<p> To run this notebook, go to Cell -> Run All. Inspect the output of each cell block. </p>\n",
    "\n",
    "<b> Please read the following instructions carefully! </b>\n",
    "    <ul>\n",
    "    <li>We highly recommend you to run all cells and inspect output rather than running the cells individually to save time as well as avoid any issues.  \n",
    "    <li>This notebook is for your understanding. Running this notebook is NOT required for proceeding with the next steps of your workshop.\n",
    "    <li>In case your notebook does not run as expected or if you run into any errors, please proceed with the next steps provided in the Workshop instructions. \n",
    "    <li>If you choose to run the notebooks, please read the comments in the markdown and inspect the output of each cell.\n",
    "    </ul>"
   ]
  },
  {
   "cell_type": "markdown",
   "id": "a4e9756f",
   "metadata": {},
   "source": [
    "<h3> Install required dependencies </h3>\n",
    "<p> <b>Note:</b> If you notice any ERRORs from the following cell, ignore them and proceed with the next cells.</p><br>"
   ]
  },
  {
   "cell_type": "code",
   "execution_count": null,
   "id": "b743ba56",
   "metadata": {},
   "outputs": [],
   "source": [
    "%pip install --quiet --no-build-isolation --upgrade \\\n",
    "    \"boto3==1.28.63\" \\\n",
    "    \"awscli==1.29.63\" \\\n",
    "    \"botocore==1.31.63\" \\\n",
    "    \"langchain==0.0.309\""
   ]
  },
  {
   "cell_type": "code",
   "execution_count": null,
   "id": "dc9d30b5",
   "metadata": {},
   "outputs": [],
   "source": [
    "import json\n",
    "import os\n",
    "import sys\n",
    "import boto3\n",
    "import botocore\n",
    "from langchain import PromptTemplate\n",
    "from langchain.llms.bedrock import Bedrock\n",
    "\n",
    "module_path = \"..\"\n",
    "sys.path.append(os.path.abspath(module_path))\n",
    "from utils import bedrock, print_ww"
   ]
  },
  {
   "cell_type": "markdown",
   "id": "e619a2d0",
   "metadata": {},
   "source": [
    "<h3> Initialize Bedrock client </h3><br>"
   ]
  },
  {
   "cell_type": "code",
   "execution_count": null,
   "id": "718fa84d",
   "metadata": {},
   "outputs": [],
   "source": [
    " boto3_bedrock = bedrock.get_bedrock_client(\n",
    "    assumed_role=os.environ.get(\"BEDROCK_ASSUME_ROLE\", None),\n",
    "    region=os.environ.get(\"AWS_DEFAULT_REGION\", None)\n",
    ")"
   ]
  },
  {
   "cell_type": "markdown",
   "id": "17f0a535",
   "metadata": {},
   "source": [
    "<h3> Initialize LLM </h3>\n",
    "<p> Using Langchain, initialize an LLM instance for text summarization. </p>"
   ]
  },
  {
   "cell_type": "code",
   "execution_count": null,
   "id": "c1f2bb4b",
   "metadata": {},
   "outputs": [],
   "source": [
    "textsumm_llm = Bedrock(\n",
    "                model_id=\"anthropic.claude-instant-v1\",\n",
    "                client=boto3_bedrock)"
   ]
  },
  {
   "cell_type": "markdown",
   "id": "aa03d796",
   "metadata": {},
   "source": [
    "<p> Create a prompt template with the variables: product name and consolidated list of customer reviews for the product. </p> "
   ]
  },
  {
   "cell_type": "code",
   "execution_count": null,
   "id": "ddd954d7",
   "metadata": {},
   "outputs": [],
   "source": [
    "prompt_template = PromptTemplate(\n",
    "    input_variables=[\"product_name\",\"reviews\"],\n",
    "    template=\"\"\"\n",
    "    \n",
    "    Human: Provide a review summary including pros and cons based on the customer reviews for the product {product_name}. This summary will be updated in the product webpage. Customer reviews are enclosed in <customer_reviews> tag. \n",
    "    \n",
    "        <customer_reviews>\n",
    "            {reviews}\n",
    "        <customer_reviews>\n",
    "        \n",
    "    Assistant:\n",
    "    \n",
    "    \"\"\")"
   ]
  },
  {
   "cell_type": "markdown",
   "id": "e16729cb",
   "metadata": {},
   "source": [
    "<h3> Provide customer reviews data for the prompt </h3>\n",
    "\n",
    "<p> This data will be used to construct our prompt which will be passed to the LLM to customize customer reviews. </p> "
   ]
  },
  {
   "cell_type": "code",
   "execution_count": null,
   "id": "9a1be58a",
   "metadata": {},
   "outputs": [],
   "source": [
    "product_name=\"Treadlite Shoe\"\n",
    "\n",
    "# There are 4 customer reviews for this product \n",
    "\n",
    "product_reviews = [\"\"\"I've owned these shoes for about 6 months now and have put over 300 miles on them. They are super lightweight and provide excellent cushioning and support for long runs. The breathable mesh keeps my feet from overheating even on hot summer days. The only minor issue is that the tread is starting to show some light wear but for a $200 shoe I'm really impressed with the durability. Overall these are a fantastic value for any serious runner.\"\"\",\n",
    "                   \"\"\"While the Treadlite shoes look sleek and are very lightweight, I'm finding they don't provide enough support for high intensity workouts. On long runs or easy miles they feel fine but anytime I do speedwork or hill repeats my feet and ankles feel beat up afterwards. The cushioning also seems to flatten out quickly. I'm only a few months into a training plan and they are barely holding up. For the price I expected them to last longer. I like the brand but may look elsewhere for my next pair of shoes.\"\"\",\n",
    "                   \"\"\"I bought these shoes to use for light gym workouts and occasional runs but after a few weeks I realized they weren't supportive enough for any intense exercise. The upper material is very thin and offers little protection or structure for high-impact activities. On my long run last weekend my feet and ankles were sore afterwards. They look and feel lightweight but lack sturdiness. Fine for walking around casually but I wouldn't recommend them for serious athletes or those training for races and would look for a shoe with better cushioning and stability.\"\"\",\n",
    "                   \"\"\"Treadlite shoes promise lightweight comfort, but they failed to deliver for me. Within a few weeks of regular use, the thin material started wearing down already. There are holes forming on the sides and small tears along the seams. The fabric just does not feel durable enough. Additionally, I found these shoes to be poorly cushioned. After a 5 mile run, my feet and knees were sore from the lack of support and bounce. It was like running directly on the hard pavement. The shoe provides almost no impact absorption for a runner. The sizing is also off. I bought my normal size but the shoes feel restrictive, like my feet are being squeezed. They did not stretch or mold to the shape of my foot over time like other running shoes. It's an uncomfortable fit that leaves my feet feeling constricted after runs. Between the lack of cushioning, poor durability of materials, and sizing issues, these Treadlite shoes have been a big disappointment. For a brand focused on running, the design flaws mean they are not well-suited for the needs of active individuals. I cannot recommend these shoes and would not purchase from this brand again based on my experience. Runners deserve better quality and performance than what Treadlite provided.\"\"\"]\n",
    "\n",
    "# Loading this list in HTML tag format to pass as a prompt to the LLM. \n",
    "# Doing it this way helps LLM understand our instruction better\n",
    "\n",
    "review_digest = ''\n",
    "\n",
    "for review in product_reviews:\n",
    "    review_digest += \"<review>\" + '\\n'\n",
    "    review_digest += review + '\\n'\n",
    "    review_digest += \"</review>\" + '\\n\\n'\n",
    "        \n",
    "# print_ww(review_digest)"
   ]
  },
  {
   "cell_type": "markdown",
   "id": "1383f15f",
   "metadata": {},
   "source": [
    "<p> Let's construct the prompt by passing all the variables to the prompt template. </p>"
   ]
  },
  {
   "cell_type": "code",
   "execution_count": null,
   "id": "6fc96d6c",
   "metadata": {},
   "outputs": [],
   "source": [
    "prompt = prompt_template.format(product_name=product_name,\n",
    "                                reviews=review_digest)"
   ]
  },
  {
   "cell_type": "markdown",
   "id": "bd2d3cbc",
   "metadata": {},
   "source": [
    "Let's see how the prompt looks"
   ]
  },
  {
   "cell_type": "code",
   "execution_count": null,
   "id": "5756fddf",
   "metadata": {},
   "outputs": [],
   "source": [
    "print_ww(prompt)"
   ]
  },
  {
   "cell_type": "code",
   "execution_count": null,
   "id": "a4e1f3bb",
   "metadata": {},
   "outputs": [],
   "source": [
    "response = textsumm_llm(prompt)\n",
    "print_ww(response)"
   ]
  },
  {
   "cell_type": "markdown",
   "id": "1bda776f",
   "metadata": {},
   "source": [
    "<h4> We can also try to generate the customer review summary using another LLM. Let's use Amazon Titan LLM from Bedrock </h4>"
   ]
  },
  {
   "cell_type": "code",
   "execution_count": null,
   "id": "33622def",
   "metadata": {},
   "outputs": [],
   "source": [
    "textsumm_llm = Bedrock(\n",
    "                model_id=\"amazon.titan-tg1-large\",\n",
    "                client=boto3_bedrock)"
   ]
  },
  {
   "cell_type": "code",
   "execution_count": null,
   "id": "816c1a7a",
   "metadata": {},
   "outputs": [],
   "source": [
    "response = textsumm_llm(prompt)\n",
    "print_ww(response)"
   ]
  },
  {
   "cell_type": "markdown",
   "id": "47184a52",
   "metadata": {},
   "source": [
    "<h3> You've successfully summarized customer reviews for a product with Amazon Bedrock!</h3>\n",
    "\n",
    "<p> Please stop the notebook kernel before proceeding. </p>\n",
    "\n",
    "<h4> Now, let's learn how to integrate Amazon Bedrock and Langchain into your web application to do the same. Please go back to Workshop Studio and follow the instructions to replicate this code into your Cloud9 environment. </h4>"
   ]
  },
  {
   "cell_type": "code",
   "execution_count": null,
   "id": "374c3d53",
   "metadata": {},
   "outputs": [],
   "source": []
  }
 ],
 "metadata": {
  "kernelspec": {
   "display_name": "conda_python3",
   "language": "python",
   "name": "conda_python3"
  },
  "language_info": {
   "codemirror_mode": {
    "name": "ipython",
    "version": 3
   },
   "file_extension": ".py",
   "mimetype": "text/x-python",
   "name": "python",
   "nbconvert_exporter": "python",
   "pygments_lexer": "ipython3",
   "version": "3.10.12"
  }
 },
 "nbformat": 4,
 "nbformat_minor": 5
}
