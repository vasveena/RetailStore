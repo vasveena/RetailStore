{
 "cells": [
  {
   "cell_type": "markdown",
   "id": "9dda2e72",
   "metadata": {},
   "source": [
    "<h1> Similarity search using Amazon Bedrock Embedddings </h1>\n",
    "<br>\n",
    "\n",
    "<p> This notebook walks you through how you can perform similarity search with the help of vector embeddings stored in Amazon RDS using pgvector extension. Let's learn how to use Amazon Bedrock Embeddings to perform similarity search to retrieve similar products from the product catalog based on your search keyword.\n",
    "    \n",
    "<p> Before starting, please make sure this notebook is using <b>conda_python3</b> kernel from the top right! </p>\n",
    "\n",
    "<p> To run this notebook, go to Cell -> Run All. Inspect the output of each cell block. </p>\n",
    "\n",
    "<b> Please read the following instructions carefully! </b>\n",
    "    <ul>\n",
    "    <li>We highly recommend you to run all cells and inspect output rather than running the cells individually to save time as well as avoid any issues.  \n",
    "    <li>This notebook is for your understanding. Running this notebook is NOT required for proceeding with the next steps of your workshop.\n",
    "    <li>In case your notebook does not run as expected or if you run into any errors, please proceed with the next steps provided in the Workshop instructions. \n",
    "    <li>If you choose to run the notebooks, please read the comments in the markdown and inspect the output of each cell.\n",
    "    </ul>"
   ]
  },
  {
   "cell_type": "markdown",
   "id": "f635e8e2",
   "metadata": {},
   "source": [
    "<h3> Install required dependencies </h3>\n",
    "<p> <b>Note:</b> If you notice any ERRORs from the following cell, ignore them and proceed with the next cells.</p><br>"
   ]
  },
  {
   "cell_type": "code",
   "execution_count": null,
   "id": "d0fd2fa5",
   "metadata": {},
   "outputs": [],
   "source": [
    "%pip install --quiet --no-build-isolation --upgrade \\\n",
    "    \"boto3==1.28.63\" \\\n",
    "    \"awscli==1.29.63\" \\\n",
    "    \"botocore==1.31.63\" \\\n",
    "    \"langchain==0.0.309\" \\\n",
    "    \"psycopg2-binary==2.9.9\" \\\n",
    "    \"pgvector==0.2.3\" \\\n",
    "    \"numpy==1.26.1\""
   ]
  },
  {
   "cell_type": "markdown",
   "id": "2fa45f10",
   "metadata": {},
   "source": [
    "<h3> Import required packages </h3>"
   ]
  },
  {
   "cell_type": "code",
   "execution_count": null,
   "id": "f6afab3c",
   "metadata": {},
   "outputs": [],
   "source": [
    "import json\n",
    "import os\n",
    "import sys\n",
    "import boto3\n",
    "import botocore\n",
    "from langchain import PromptTemplate\n",
    "from langchain.llms.bedrock import Bedrock\n",
    "\n",
    "# For vector search\n",
    "from langchain.embeddings import BedrockEmbeddings\n",
    "import psycopg2\n",
    "from pgvector.psycopg2 import register_vector\n",
    "import numpy as np\n",
    "\n",
    "# For image operations\n",
    "from PIL import Image\n",
    "import base64\n",
    "import io\n",
    "import requests\n",
    "\n",
    "module_path = \"..\"\n",
    "sys.path.append(os.path.abspath(module_path))\n",
    "from utils import bedrock, print_ww"
   ]
  },
  {
   "cell_type": "markdown",
   "id": "6e50c88a",
   "metadata": {},
   "source": [
    "<h3> Initialize Bedrock client </h3>"
   ]
  },
  {
   "cell_type": "code",
   "execution_count": null,
   "id": "daa0fbdb",
   "metadata": {},
   "outputs": [],
   "source": [
    "boto3_bedrock = bedrock.get_bedrock_client(\n",
    "    assumed_role=os.environ.get(\"BEDROCK_ASSUME_ROLE\", None),\n",
    "    region=os.environ.get(\"AWS_DEFAULT_REGION\", None)\n",
    ")"
   ]
  },
  {
   "cell_type": "markdown",
   "id": "78992b7d",
   "metadata": {},
   "source": [
    "#### Initialize Amazon Bedrock Embeddings model \n",
    "\n",
    "We are using Titan Embeddings model here to convert string to vector embeddings to perform vector (similarity) search. "
   ]
  },
  {
   "cell_type": "code",
   "execution_count": null,
   "id": "bd3a0950",
   "metadata": {},
   "outputs": [],
   "source": [
    "modelId = \"amazon.titan-embed-text-v1\"\n",
    "bedrock_embeddings = BedrockEmbeddings(model_id=modelId, client=boto3_bedrock)"
   ]
  },
  {
   "cell_type": "markdown",
   "id": "549adaab",
   "metadata": {},
   "source": [
    "#### Define a search keyword and create vector embedding for that keyword"
   ]
  },
  {
   "cell_type": "code",
   "execution_count": null,
   "id": "25ca0142",
   "metadata": {},
   "outputs": [],
   "source": [
    "keyword = \"floral prints\"\n",
    "print(keyword)"
   ]
  },
  {
   "cell_type": "markdown",
   "id": "6e6ddf8d",
   "metadata": {},
   "source": [
    "#### Now let's create vector embedding for this keyword using Bedrock"
   ]
  },
  {
   "cell_type": "code",
   "execution_count": null,
   "id": "9842df64",
   "metadata": {},
   "outputs": [],
   "source": [
    "search_embedding = list(bedrock_embeddings.embed_query(keyword))\n",
    "print(search_embedding)"
   ]
  },
  {
   "cell_type": "markdown",
   "id": "d3790e52",
   "metadata": {},
   "source": [
    "We are going to use the search embeddings to query the RDS vector knowledge base. This vector database is already prepopulated with embeddings for all the products in [this](https://github.com/zalandoresearch/feidegger/blob/master/data/FEIDEGGER_release_1.2.json) catalog. We used the same [FEIDEGGER](https://github.com/zalandoresearch/feidegger/tree/master) dataset to generate all the vector embeddings. \n",
    "\n",
    "Please note that in order to save time, all the 8500+ vector embeddings are pre-populated into your Amazon RDS database instance. The process to create vector embeddings for these many embeddings takes about ~20-30 minutes. In order to store and query these embeddings, your RDS database needs to have [pgvector](https://github.com/pgvector/pgvector) extension installed. It has also been pre-installed in your RDS instance."
   ]
  },
  {
   "cell_type": "markdown",
   "id": "cde0ff4b",
   "metadata": {},
   "source": [
    "#### Now lets connect to Amazon RDS and query the embeddings based on the search keyword "
   ]
  },
  {
   "cell_type": "code",
   "execution_count": null,
   "id": "0f6ab769",
   "metadata": {},
   "outputs": [],
   "source": [
    "# Initialize secrets manager\n",
    "secrets = boto3.client('secretsmanager')\n",
    "\n",
    "sm_response = secrets.get_secret_value(SecretId='postgresdb-secrets')\n",
    "\n",
    "database_secrets = json.loads(sm_response['SecretString'])\n",
    "\n",
    "dbhost = database_secrets['host']\n",
    "dbport = database_secrets['port']\n",
    "dbuser = database_secrets['username']\n",
    "dbpass = database_secrets['password']\n",
    "dbname = database_secrets['vectorDbIdentifier']\n",
    "\n",
    "# Connect to the RDS vectordb database \n",
    "dbconn = psycopg2.connect(host=dbhost, user=dbuser, password=dbpass, port=dbport, database=dbname, connect_timeout=10)\n",
    "dbconn.set_session(autocommit=True)\n",
    "register_vector(dbconn)\n",
    "cur = dbconn.cursor()"
   ]
  },
  {
   "cell_type": "markdown",
   "id": "f8a228fb",
   "metadata": {},
   "source": [
    "Execute search query where we perform similarity search on the pre-populated vector embeddings with the search keyword"
   ]
  },
  {
   "cell_type": "code",
   "execution_count": null,
   "id": "7cd9cb99",
   "metadata": {},
   "outputs": [],
   "source": [
    "# Limiting search result to 2 for now\n",
    "cur.execute(\"\"\"SELECT id, url, description, descriptions_embeddings \n",
    "                        FROM vector_products\n",
    "                        ORDER BY descriptions_embeddings <-> %s limit 2;\"\"\", \n",
    "                        (np.array(search_embedding),))\n",
    "\n",
    "# Fetch search result\n",
    "dbresult = cur.fetchall()"
   ]
  },
  {
   "cell_type": "markdown",
   "id": "9f94ce24",
   "metadata": {},
   "source": [
    "#### Display similarity search result\n",
    "\n",
    "This search result contains top 2 products that are similar to our search keyword. "
   ]
  },
  {
   "cell_type": "code",
   "execution_count": null,
   "id": "8aa92746",
   "metadata": {},
   "outputs": [],
   "source": [
    "for x in dbresult:\n",
    "    # Get similar product IDs\n",
    "    product_item_id = x[0]\n",
    "    \n",
    "    # Get similar product descriptions\n",
    "    desc = x[2]\n",
    "    \n",
    "    # Get image from URL\n",
    "    url = x[1].split('?')[0]\n",
    "    response = requests.get(url)\n",
    "    img = Image.open(io.BytesIO(response.content))\n",
    "    img = img.resize((256, 256))\n",
    "    \n",
    "    # Print similarity search results\n",
    "    print(\"Product ID: \" +str(product_item_id))\n",
    "    print(\"\\n\"+desc)\n",
    "    img.show()\n"
   ]
  },
  {
   "cell_type": "markdown",
   "id": "8e368b60",
   "metadata": {},
   "source": [
    "<h3> You've successfully created a vector search application using Amazon RDS pgvector extension with Amazon Bedrock Embeddings!</h3>\n",
    "\n",
    "<p> Please stop the notebook kernel before proceeding. </p>\n",
    "\n",
    "<h4> Now, let's learn how to integrate Amazon Bedrock into your web application to do the same. Please go back to Workshop Studio and follow the instructions to replicate this code into your Cloud9 environment. </h4>"
   ]
  },
  {
   "cell_type": "code",
   "execution_count": null,
   "id": "6218dd1c",
   "metadata": {},
   "outputs": [],
   "source": []
  }
 ],
 "metadata": {
  "kernelspec": {
   "display_name": "conda_python3",
   "language": "python",
   "name": "conda_python3"
  },
  "language_info": {
   "codemirror_mode": {
    "name": "ipython",
    "version": 3
   },
   "file_extension": ".py",
   "mimetype": "text/x-python",
   "name": "python",
   "nbconvert_exporter": "python",
   "pygments_lexer": "ipython3",
   "version": "3.10.13"
  }
 },
 "nbformat": 4,
 "nbformat_minor": 5
}
